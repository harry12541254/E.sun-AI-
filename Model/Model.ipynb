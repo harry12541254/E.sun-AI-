{
 "cells": [
  {
   "cell_type": "code",
   "execution_count": 1,
   "id": "eeb78812",
   "metadata": {
    "scrolled": true
   },
   "outputs": [
    {
     "data": {
      "text/plain": [
       "'\\n這份檔案要用來執行訓練行的部分，主要利用catboost來訓練模型，可透過參數利用GPU進行運算\\n\\ninput：特徵處理完的training dataset(processed_data.parquet)、validation dataset(val_data.parquet)\\n\\noutput：最終final_prediction  \\n\\n\\n'"
      ]
     },
     "execution_count": 1,
     "metadata": {},
     "output_type": "execute_result"
    }
   ],
   "source": [
    "\"\"\"\n",
    "這份檔案要用來執行訓練行的部分，主要利用catboost來訓練模型，可透過參數利用GPU進行運算\n",
    "\n",
    "input：特徵處理完的training dataset(processed_data.parquet)、validation dataset(val_data.parquet)\n",
    "\n",
    "output：最終final_prediction和訓練後model模型檔案model.cbm \n",
    "\n",
    "\n",
    "\"\"\""
   ]
  },
  {
   "cell_type": "code",
   "execution_count": 2,
   "id": "1d8e9039",
   "metadata": {
    "scrolled": true
   },
   "outputs": [],
   "source": [
    "import pandas as pd\n",
    "import numpy as np\n",
    "import datetime\n",
    "import dask.dataframe as dd\n",
    "from sklearn.preprocessing import LabelEncoder\n",
    "from sklearn.model_selection import StratifiedKFold, train_test_split\n",
    "from sklearn.metrics import auc\n",
    "from sklearn import metrics\n",
    "from sklearn.metrics import precision_score, recall_score, f1_score\n",
    "from collections import Counter\n",
    "from catboost import CatBoostClassifier, Pool, EShapCalcType, EFeaturesSelectionAlgorithm\n",
    "from scipy.stats import entropy"
   ]
  },
  {
   "cell_type": "markdown",
   "id": "eb43bcab",
   "metadata": {},
   "source": [
    "# 訓練模型"
   ]
  },
  {
   "cell_type": "code",
   "execution_count": 5,
   "id": "e6194d61",
   "metadata": {
    "scrolled": true
   },
   "outputs": [],
   "source": [
    "new_train_data = pd.read_parquet('processed_data.parquet')\n",
    "new_val_data = pd.read_parquet('val_data.parquet')\n",
    "example = pd.read_csv('dataset_1st/31_範例繳交檔案.csv')\n"
   ]
  },
  {
   "cell_type": "code",
   "execution_count": 6,
   "id": "94de985f",
   "metadata": {
    "scrolled": true
   },
   "outputs": [],
   "source": [
    "cat_features = ['contp', 'etymd', 'mcc', 'ecfg', 'stocn', 'scity', 'insfg', 'mchno', 'acqic',\n",
    "                'stscd', 'hcefg', 'csmcu', 'flg_3dsmk', 'hour','city_change', 'country_change']\n",
    "\n",
    "columns_to_drop = ['label', 'txkey', 'chid', 'cano', 'bnsfg', 'flbmk', 'ovrlt', 'iterm']\n",
    "\n",
    "# 從數據框中刪除指定的列\n",
    "X = new_train_data.drop(columns=columns_to_drop)\n",
    "y = new_train_data['label']\n"
   ]
  },
  {
   "cell_type": "code",
   "execution_count": 7,
   "id": "b3b4df56",
   "metadata": {
    "scrolled": true
   },
   "outputs": [],
   "source": [
    "for feature in cat_features:\n",
    "    X[feature] = X[feature].astype(str)\n",
    "    \n",
    "X_train, X_test, y_train, y_test = train_test_split(\n",
    "    X, y, \n",
    "    test_size=0.35, \n",
    "    random_state=40, \n",
    "    stratify=y\n",
    ")\n",
    "\n",
    "train_pool = Pool(X_train, y_train,cat_features=cat_features)\n",
    "test_pool = Pool(X_test, y_test,cat_features=cat_features)\n"
   ]
  },
  {
   "cell_type": "code",
   "execution_count": 23,
   "id": "2e1cf671",
   "metadata": {},
   "outputs": [
    {
     "name": "stdout",
     "output_type": "stream",
     "text": [
      "0:\tlearn: 0.8703902\ttest: 0.8745276\tbest: 0.8745276 (0)\ttotal: 90.6ms\tremaining: 7m 32s\n",
      "100:\tlearn: 0.9055057\ttest: 0.9062178\tbest: 0.9062178 (100)\ttotal: 9.48s\tremaining: 7m 39s\n",
      "200:\tlearn: 0.9237512\ttest: 0.9225561\tbest: 0.9225561 (200)\ttotal: 19.8s\tremaining: 7m 53s\n",
      "300:\tlearn: 0.9322794\ttest: 0.9297908\tbest: 0.9297908 (299)\ttotal: 30s\tremaining: 7m 47s\n",
      "400:\tlearn: 0.9404068\ttest: 0.9357573\tbest: 0.9357573 (400)\ttotal: 39.7s\tremaining: 7m 35s\n",
      "500:\tlearn: 0.9463741\ttest: 0.9401230\tbest: 0.9401923 (496)\ttotal: 49.3s\tremaining: 7m 22s\n",
      "600:\tlearn: 0.9512660\ttest: 0.9434974\tbest: 0.9434974 (600)\ttotal: 58.5s\tremaining: 7m 8s\n",
      "700:\tlearn: 0.9545332\ttest: 0.9454646\tbest: 0.9454967 (699)\ttotal: 1m 7s\tremaining: 6m 55s\n",
      "800:\tlearn: 0.9587598\ttest: 0.9474868\tbest: 0.9474868 (799)\ttotal: 1m 17s\tremaining: 6m 43s\n",
      "900:\tlearn: 0.9624912\ttest: 0.9503524\tbest: 0.9503822 (897)\ttotal: 1m 26s\tremaining: 6m 32s\n",
      "1000:\tlearn: 0.9657967\ttest: 0.9517409\tbest: 0.9517409 (1000)\ttotal: 1m 35s\tremaining: 6m 21s\n",
      "1100:\tlearn: 0.9684292\ttest: 0.9533453\tbest: 0.9534257 (1096)\ttotal: 1m 44s\tremaining: 6m 11s\n",
      "1200:\tlearn: 0.9708364\ttest: 0.9546722\tbest: 0.9546722 (1200)\ttotal: 1m 54s\tremaining: 6m 1s\n",
      "1300:\tlearn: 0.9729799\ttest: 0.9554934\tbest: 0.9554950 (1284)\ttotal: 2m 3s\tremaining: 5m 52s\n",
      "1400:\tlearn: 0.9751837\ttest: 0.9560975\tbest: 0.9560975 (1400)\ttotal: 2m 13s\tremaining: 5m 42s\n",
      "1500:\tlearn: 0.9768768\ttest: 0.9574938\tbest: 0.9574938 (1500)\ttotal: 2m 22s\tremaining: 5m 32s\n",
      "1600:\tlearn: 0.9784762\ttest: 0.9578657\tbest: 0.9579556 (1584)\ttotal: 2m 31s\tremaining: 5m 22s\n",
      "1700:\tlearn: 0.9801870\ttest: 0.9584319\tbest: 0.9585686 (1659)\ttotal: 2m 40s\tremaining: 5m 12s\n",
      "1800:\tlearn: 0.9815957\ttest: 0.9588641\tbest: 0.9589436 (1759)\ttotal: 2m 50s\tremaining: 5m 2s\n",
      "1900:\tlearn: 0.9831649\ttest: 0.9594195\tbest: 0.9594552 (1896)\ttotal: 2m 59s\tremaining: 4m 52s\n",
      "2000:\tlearn: 0.9843802\ttest: 0.9595277\tbest: 0.9595720 (1999)\ttotal: 3m 8s\tremaining: 4m 42s\n",
      "2100:\tlearn: 0.9855349\ttest: 0.9597534\tbest: 0.9598455 (2059)\ttotal: 3m 17s\tremaining: 4m 32s\n",
      "2200:\tlearn: 0.9865927\ttest: 0.9597807\tbest: 0.9598704 (2180)\ttotal: 3m 26s\tremaining: 4m 22s\n",
      "2300:\tlearn: 0.9877882\ttest: 0.9602391\tbest: 0.9602521 (2299)\ttotal: 3m 36s\tremaining: 4m 13s\n",
      "2400:\tlearn: 0.9885702\ttest: 0.9601024\tbest: 0.9602905 (2378)\ttotal: 3m 45s\tremaining: 4m 4s\n",
      "2500:\tlearn: 0.9894318\ttest: 0.9603244\tbest: 0.9604456 (2494)\ttotal: 3m 55s\tremaining: 3m 54s\n",
      "2600:\tlearn: 0.9902422\ttest: 0.9603218\tbest: 0.9604819 (2587)\ttotal: 4m 4s\tremaining: 3m 45s\n",
      "2700:\tlearn: 0.9910665\ttest: 0.9603840\tbest: 0.9604819 (2587)\ttotal: 4m 13s\tremaining: 3m 35s\n",
      "2800:\tlearn: 0.9915472\ttest: 0.9604226\tbest: 0.9605840 (2767)\ttotal: 4m 22s\tremaining: 3m 26s\n",
      "2900:\tlearn: 0.9922575\ttest: 0.9603737\tbest: 0.9605840 (2767)\ttotal: 4m 31s\tremaining: 3m 16s\n",
      "3000:\tlearn: 0.9927541\ttest: 0.9605055\tbest: 0.9605840 (2767)\ttotal: 4m 41s\tremaining: 3m 7s\n",
      "3100:\tlearn: 0.9933133\ttest: 0.9606417\tbest: 0.9607706 (3093)\ttotal: 4m 50s\tremaining: 2m 57s\n",
      "3200:\tlearn: 0.9937636\ttest: 0.9610272\tbest: 0.9610272 (3200)\ttotal: 4m 59s\tremaining: 2m 48s\n",
      "3300:\tlearn: 0.9941060\ttest: 0.9609654\tbest: 0.9610943 (3289)\ttotal: 5m 9s\tremaining: 2m 39s\n",
      "3400:\tlearn: 0.9943612\ttest: 0.9610227\tbest: 0.9610943 (3289)\ttotal: 5m 18s\tremaining: 2m 29s\n",
      "3500:\tlearn: 0.9947700\ttest: 0.9611658\tbest: 0.9612145 (3495)\ttotal: 5m 28s\tremaining: 2m 20s\n",
      "3600:\tlearn: 0.9951033\ttest: 0.9611354\tbest: 0.9612958 (3578)\ttotal: 5m 38s\tremaining: 2m 11s\n",
      "3700:\tlearn: 0.9953641\ttest: 0.9611473\tbest: 0.9612958 (3578)\ttotal: 5m 47s\tremaining: 2m 2s\n",
      "3800:\tlearn: 0.9955760\ttest: 0.9612504\tbest: 0.9612958 (3578)\ttotal: 5m 57s\tremaining: 1m 52s\n",
      "3900:\tlearn: 0.9958057\ttest: 0.9610496\tbest: 0.9612958 (3578)\ttotal: 6m 6s\tremaining: 1m 43s\n",
      "4000:\tlearn: 0.9959727\ttest: 0.9612558\tbest: 0.9614696 (3968)\ttotal: 6m 16s\tremaining: 1m 34s\n",
      "4100:\tlearn: 0.9961576\ttest: 0.9613720\tbest: 0.9614696 (3968)\ttotal: 6m 26s\tremaining: 1m 24s\n",
      "4200:\tlearn: 0.9964265\ttest: 0.9611744\tbest: 0.9614871 (4128)\ttotal: 6m 35s\tremaining: 1m 15s\n",
      "4300:\tlearn: 0.9965926\ttest: 0.9610994\tbest: 0.9614871 (4128)\ttotal: 6m 45s\tremaining: 1m 5s\n",
      "4400:\tlearn: 0.9967718\ttest: 0.9610385\tbest: 0.9614871 (4128)\ttotal: 6m 54s\tremaining: 56.5s\n",
      "4500:\tlearn: 0.9969014\ttest: 0.9610755\tbest: 0.9614871 (4128)\ttotal: 7m 4s\tremaining: 47s\n",
      "4600:\tlearn: 0.9970522\ttest: 0.9608199\tbest: 0.9614871 (4128)\ttotal: 7m 14s\tremaining: 37.6s\n",
      "4700:\tlearn: 0.9972007\ttest: 0.9607012\tbest: 0.9614871 (4128)\ttotal: 7m 23s\tremaining: 28.2s\n",
      "4800:\tlearn: 0.9973482\ttest: 0.9607337\tbest: 0.9614871 (4128)\ttotal: 7m 33s\tremaining: 18.8s\n",
      "4900:\tlearn: 0.9974543\ttest: 0.9609775\tbest: 0.9614871 (4128)\ttotal: 7m 42s\tremaining: 9.34s\n",
      "bestTest = 0.9614870906\n",
      "bestIteration = 4128\n",
      "Shrink model to first 4129 iterations.\n"
     ]
    },
    {
     "data": {
      "text/plain": [
       "<catboost.core.CatBoostClassifier at 0x19d0dc6b340>"
      ]
     },
     "execution_count": 23,
     "metadata": {},
     "output_type": "execute_result"
    }
   ],
   "source": [
    "\"\"\"\n",
    "註記：若電腦為MAC系列，則須無法使用 task_type='GPU'，可將其註解並且開啟subsample，接受另外兩個參數再進行訓練，超參數皆無須調整\n",
    "\n",
    "\"\"\"\n",
    "catboost_model = CatBoostClassifier(\n",
    "    iterations=5000,  \n",
    "    learning_rate=0.0325,\n",
    "    depth=7,\n",
    "    loss_function='Logloss',\n",
    "    eval_metric='F1',  \n",
    "    early_stopping_rounds=800,\n",
    "    random_seed=42,\n",
    "    verbose=100,\n",
    "    l2_leaf_reg=3,\n",
    "    leaf_estimation_iterations=10,\n",
    "#     colsample_bylevel=0.8,\n",
    "#     subsample=0.85,\n",
    "    max_ctr_complexity=10,\n",
    "    task_type='GPU',\n",
    "    scale_pos_weight = 9.484, # 9.45\n",
    "    random_strength=3,\n",
    "    grow_policy='Lossguide'\n",
    ")\n",
    "\n",
    "catboost_model.fit(\n",
    "    train_pool,\n",
    "    eval_set=test_pool,\n",
    "    use_best_model=True\n",
    ")"
   ]
  },
  {
   "cell_type": "code",
   "execution_count": 24,
   "id": "c09aba70",
   "metadata": {
    "scrolled": true
   },
   "outputs": [
    {
     "name": "stdout",
     "output_type": "stream",
     "text": [
      "Precision: 0.8923089159309632\n"
     ]
    }
   ],
   "source": [
    "y_pred = catboost_model.predict(test_pool)\n",
    "\n",
    "precision = precision_score(y_test, y_pred, average='binary', pos_label=1)\n",
    "\n",
    "print(f\"Precision: {precision}\")\n"
   ]
  },
  {
   "cell_type": "code",
   "execution_count": 25,
   "id": "23d2a18b",
   "metadata": {
    "scrolled": true
   },
   "outputs": [
    {
     "name": "stdout",
     "output_type": "stream",
     "text": [
      "Recall: 0.9368684759916492\n"
     ]
    }
   ],
   "source": [
    "recall = recall_score(y_test, y_pred, average='binary', pos_label=1)\n",
    "\n",
    "print(f\"Recall: {recall}\")\n",
    "\n"
   ]
  },
  {
   "cell_type": "code",
   "execution_count": 27,
   "id": "684d5beb",
   "metadata": {
    "scrolled": true
   },
   "outputs": [
    {
     "name": "stdout",
     "output_type": "stream",
     "text": [
      "                                  Feature  Importance\n",
      "29                           avg_interval    9.300616\n",
      "18                 card_transaction_count    6.533378\n",
      "30                           std_interval    6.405744\n",
      "19            customer_total_transactions    6.311303\n",
      "22                           ratio_change    5.900899\n",
      "38                 transactions_per_mchno    5.224883\n",
      "6                                     mcc    4.857460\n",
      "5                                   acqic    4.427706\n",
      "4                                   mchno    3.782711\n",
      "39                     mchno_total_amount    3.619851\n",
      "31                 transactions_per_mcc_x    3.449154\n",
      "11                                  stocn    3.225175\n",
      "37         mad_transaction_amount_per_mcc    3.122533\n",
      "34                 transactions_per_mcc_y    2.866306\n",
      "0                                   locdt    2.852094\n",
      "24                        max_daily_trans    2.142222\n",
      "32                     mcc_total_amount_x    2.020789\n",
      "12                                  scity    1.768869\n",
      "41       mad_transaction_amount_per_mchno    1.605513\n",
      "40  variance_transaction_amount_per_mchno    1.586364\n",
      "3                                   etymd    1.555761\n",
      "14                                  hcefg    1.288550\n",
      "1                                   loctm    1.238632\n",
      "16                                  csmam    1.198877\n",
      "33  variance_transaction_amount_per_mcc_x    1.116317\n",
      "20       card_transaction_ratio_before_30    1.114754\n",
      "35                     mcc_total_amount_y    1.110471\n",
      "2                                   contp    1.073673\n",
      "27                normalized_daily_amount    1.026208\n",
      "44                                   hour    0.961954\n",
      "21        card_transaction_ratio_after_30    0.939385\n",
      "8                                    ecfg    0.757129\n",
      "28                     difference_seconds    0.708317\n",
      "10                                  flam1    0.666577\n",
      "7                                   conam    0.658025\n",
      "36  variance_transaction_amount_per_mcc_y    0.598323\n",
      "13                                  stscd    0.531598\n",
      "25                     daily_transactions    0.487401\n",
      "45                          loctm_seconds    0.480923\n",
      "17                              flg_3dsmk    0.393950\n",
      "26                  normalized_trans_freq    0.334759\n",
      "23                        min_daily_trans    0.203616\n",
      "43                         country_change    0.192911\n",
      "9                                   insfg    0.122137\n",
      "42                            city_change    0.120460\n",
      "15                                  csmcu    0.115724\n"
     ]
    }
   ],
   "source": [
    "# 查看特徵\n",
    "\n",
    "feature_names =['locdt', 'loctm', 'contp', 'etymd', 'mchno', 'acqic', 'mcc', \n",
    "                'conam', 'ecfg', 'insfg', 'flam1', 'stocn', 'scity', 'stscd', \n",
    "                'hcefg', 'csmcu', 'csmam', 'flg_3dsmk', 'card_transaction_count', \n",
    "                'customer_total_transactions', 'card_transaction_ratio_before_30', \n",
    "                'card_transaction_ratio_after_30', 'ratio_change', 'min_daily_trans', \n",
    "                'max_daily_trans', 'daily_transactions', 'normalized_trans_freq', \n",
    "                'normalized_daily_amount', 'difference_seconds', 'avg_interval', \n",
    "                'std_interval', 'transactions_per_mcc_x', 'mcc_total_amount_x', \n",
    "                'variance_transaction_amount_per_mcc_x', 'transactions_per_mcc_y', \n",
    "                'mcc_total_amount_y', 'variance_transaction_amount_per_mcc_y', \n",
    "                'mad_transaction_amount_per_mcc', 'transactions_per_mchno', 'mchno_total_amount', \n",
    "                'variance_transaction_amount_per_mchno', 'mad_transaction_amount_per_mchno', \n",
    "                'city_change', 'country_change', 'hour', 'loctm_seconds']\n",
    "\n",
    "feature_importances = catboost_model.feature_importances_\n",
    "\n",
    "feature_importance_df = pd.DataFrame({\n",
    "    'Feature': feature_names,\n",
    "    'Importance': feature_importances\n",
    "})\n",
    "\n",
    "feature_importance_df = feature_importance_df.sort_values(by='Importance', ascending=False)\n",
    "\n",
    "# Display the feature importance\n",
    "print(feature_importance_df)\n"
   ]
  },
  {
   "cell_type": "markdown",
   "id": "dbdd30a0",
   "metadata": {},
   "source": [
    "# 預測和輸出資料"
   ]
  },
  {
   "cell_type": "code",
   "execution_count": 28,
   "id": "c9f352a7",
   "metadata": {
    "scrolled": true
   },
   "outputs": [],
   "source": [
    "new_val_data = new_val_data.set_index('txkey')"
   ]
  },
  {
   "cell_type": "code",
   "execution_count": 30,
   "id": "8e3fd7ec",
   "metadata": {
    "scrolled": true
   },
   "outputs": [],
   "source": [
    "columns_to_drop = ['chid', 'cano', 'bnsfg', 'flbmk', 'ovrlt', 'iterm']\n",
    "\n",
    "cat_features = ['contp', 'etymd', 'mcc', 'ecfg', 'stocn', 'scity', 'insfg', 'mchno', 'acqic',\n",
    "                'stscd', 'hcefg', 'csmcu', 'flg_3dsmk', 'hour','city_change', 'country_change']\n",
    "\n",
    "X = new_val_data.drop(columns=columns_to_drop)\n",
    "\n",
    "for feature in cat_features:\n",
    "    X[feature] = X[feature].astype(str)\n",
    "    \n",
    "test_pool = Pool(X, cat_features=cat_features)\n"
   ]
  },
  {
   "cell_type": "code",
   "execution_count": 35,
   "id": "c8e53acf",
   "metadata": {
    "scrolled": true
   },
   "outputs": [],
   "source": [
    "y_pred = catboost_model.predict(test_pool).astype(int)\n",
    "new_val_data['pred']= y_pred\n",
    "new_val_data =new_val_data.reset_index()\n",
    "\n",
    "output_df = new_val_data[['txkey', 'pred']].set_index('txkey')\n",
    "example = example.drop_duplicates(subset='txkey')\n",
    "\n",
    "df2_sorted = example[['txkey']].merge(output_df, on='txkey', how='left')\n",
    "df2_sorted = df2_sorted.set_index('txkey')"
   ]
  },
  {
   "cell_type": "code",
   "execution_count": 36,
   "id": "91557fd7",
   "metadata": {
    "scrolled": true
   },
   "outputs": [],
   "source": [
    "output_filename = 'dataset_2nd/predictions_secondround.csv'\n",
    "df2_sorted.to_csv(output_filename, index='True')"
   ]
  },
  {
   "cell_type": "code",
   "execution_count": null,
   "id": "e5e871de",
   "metadata": {
    "scrolled": true
   },
   "outputs": [],
   "source": []
  }
 ],
 "metadata": {
  "kernelspec": {
   "display_name": "Python 3 (ipykernel)",
   "language": "python",
   "name": "python3"
  },
  "language_info": {
   "codemirror_mode": {
    "name": "ipython",
    "version": 3
   },
   "file_extension": ".py",
   "mimetype": "text/x-python",
   "name": "python",
   "nbconvert_exporter": "python",
   "pygments_lexer": "ipython3",
   "version": "3.10.10"
  }
 },
 "nbformat": 4,
 "nbformat_minor": 5
}
