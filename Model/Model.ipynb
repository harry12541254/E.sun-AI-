{
 "cells": [
  {
   "cell_type": "code",
   "execution_count": 1,
   "id": "eeb78812",
   "metadata": {
    "scrolled": true
   },
   "outputs": [
    {
     "data": {
      "text/plain": [
       "'\\n這份檔案要用來執行訓練行的部分，主要利用catboost來訓練模型，可透過參數利用GPU進行運算\\n\\ninput：特徵處理完的training dataset(processed_data.parquet)、validation dataset(val_data.parquet)\\n\\noutput：最終final_prediction \\n\\n\\n'"
      ]
     },
     "execution_count": 1,
     "metadata": {},
     "output_type": "execute_result"
    }
   ],
   "source": [
    "\"\"\"\n",
    "這份檔案要用來執行訓練行的部分，主要利用catboost來訓練模型，可透過參數利用GPU進行運算\n",
    "\n",
    "input：特徵處理完的training dataset(processed_data.parquet)、validation dataset(val_data.parquet)\n",
    "\n",
    "output：最終final_prediction \n",
    "\n",
    "\n",
    "\"\"\""
   ]
  },
  {
   "cell_type": "code",
   "execution_count": 23,
   "id": "1d8e9039",
   "metadata": {
    "scrolled": true
   },
   "outputs": [],
   "source": [
    "import pandas as pd\n",
    "import numpy as np\n",
    "import datetime\n",
    "import dask.dataframe as dd\n",
    "import xgboost as xgb\n",
    "import lightgbm as lgb\n",
    "from sklearn.preprocessing import LabelEncoder\n",
    "from sklearn.model_selection import StratifiedKFold, train_test_split\n",
    "from sklearn.metrics import auc\n",
    "from sklearn import metrics\n",
    "from sklearn.metrics import precision_score, recall_score, f1_score\n",
    "from collections import Counter\n",
    "from catboost import CatBoostClassifier, Pool, EShapCalcType, EFeaturesSelectionAlgorithm\n",
    "from scipy.stats import entropy\n",
    "from lightgbm import LGBMClassifier\n"
   ]
  },
  {
   "cell_type": "markdown",
   "id": "eb43bcab",
   "metadata": {},
   "source": [
    "# 訓練模型"
   ]
  },
  {
   "cell_type": "code",
   "execution_count": 2,
   "id": "e6194d61",
   "metadata": {
    "scrolled": true
   },
   "outputs": [],
   "source": [
    "new_train_data = pd.read_parquet('processed_data.parquet')\n",
    "new_val_data = pd.read_parquet('val_data.parquet')\n",
    "example = pd.read_csv('dataset_1st/31_範例繳交檔案.csv')\n"
   ]
  },
  {
   "cell_type": "code",
   "execution_count": 3,
   "id": "94de985f",
   "metadata": {
    "scrolled": true
   },
   "outputs": [],
   "source": [
    "cat_features = ['contp', 'etymd', 'mcc', 'ecfg', 'stocn', 'scity', 'insfg', 'mchno', 'acqic',\n",
    "                'stscd', 'hcefg', 'csmcu', 'flg_3dsmk', 'hour','city_change', 'country_change']\n",
    "\n",
    "columns_to_drop = ['label', 'txkey', 'chid', 'cano', 'bnsfg', 'flbmk', 'ovrlt', 'iterm']\n",
    "\n",
    "# 從數據框中刪除指定的列\n",
    "X = new_train_data.drop(columns=columns_to_drop)\n",
    "y = new_train_data['label']\n"
   ]
  },
  {
   "cell_type": "code",
   "execution_count": 4,
   "id": "b3b4df56",
   "metadata": {
    "scrolled": true
   },
   "outputs": [],
   "source": [
    "for feature in cat_features:\n",
    "    X[feature] = X[feature].astype(str)\n",
    "    \n",
    "X_train, X_test, y_train, y_test = train_test_split(\n",
    "    X, y, \n",
    "    test_size=0.35, \n",
    "    random_state=40, \n",
    "    stratify=y\n",
    ")\n",
    "\n",
    "train_pool = Pool(X_train, y_train,cat_features=cat_features)\n",
    "test_pool = Pool(X_test, y_test,cat_features=cat_features)\n"
   ]
  },
  {
   "cell_type": "code",
   "execution_count": 5,
   "id": "2e1cf671",
   "metadata": {
    "scrolled": true
   },
   "outputs": [
    {
     "name": "stdout",
     "output_type": "stream",
     "text": [
      "0:\tlearn: 0.8692471\ttest: 0.8736018\tbest: 0.8736018 (0)\ttotal: 108ms\tremaining: 9m\n",
      "100:\tlearn: 0.9047787\ttest: 0.9059661\tbest: 0.9061075 (99)\ttotal: 9.55s\tremaining: 7m 43s\n",
      "200:\tlearn: 0.9231686\ttest: 0.9227506\tbest: 0.9228090 (195)\ttotal: 19.8s\tremaining: 7m 52s\n",
      "300:\tlearn: 0.9323214\ttest: 0.9306422\tbest: 0.9306422 (300)\ttotal: 30.1s\tremaining: 7m 50s\n",
      "400:\tlearn: 0.9401768\ttest: 0.9373239\tbest: 0.9374398 (399)\ttotal: 40.1s\tremaining: 7m 40s\n",
      "500:\tlearn: 0.9457957\ttest: 0.9421383\tbest: 0.9421383 (500)\ttotal: 49.9s\tremaining: 7m 28s\n",
      "600:\tlearn: 0.9509461\ttest: 0.9457635\tbest: 0.9457635 (600)\ttotal: 59.6s\tremaining: 7m 16s\n",
      "700:\tlearn: 0.9549122\ttest: 0.9472054\tbest: 0.9472628 (698)\ttotal: 1m 9s\tremaining: 7m 3s\n",
      "800:\tlearn: 0.9589452\ttest: 0.9497434\tbest: 0.9497985 (797)\ttotal: 1m 18s\tremaining: 6m 50s\n",
      "900:\tlearn: 0.9627042\ttest: 0.9519801\tbest: 0.9519801 (900)\ttotal: 1m 27s\tremaining: 6m 37s\n",
      "1000:\tlearn: 0.9659715\ttest: 0.9538395\tbest: 0.9538438 (999)\ttotal: 1m 36s\tremaining: 6m 25s\n",
      "1100:\tlearn: 0.9682670\ttest: 0.9551064\tbest: 0.9551379 (1094)\ttotal: 1m 45s\tremaining: 6m 14s\n",
      "1200:\tlearn: 0.9707956\ttest: 0.9565426\tbest: 0.9565682 (1192)\ttotal: 1m 54s\tremaining: 6m 2s\n",
      "1300:\tlearn: 0.9731673\ttest: 0.9575085\tbest: 0.9575085 (1300)\ttotal: 2m 3s\tremaining: 5m 51s\n",
      "1400:\tlearn: 0.9751787\ttest: 0.9584350\tbest: 0.9584350 (1400)\ttotal: 2m 12s\tremaining: 5m 40s\n",
      "1500:\tlearn: 0.9766989\ttest: 0.9591110\tbest: 0.9591263 (1481)\ttotal: 2m 21s\tremaining: 5m 29s\n",
      "1600:\tlearn: 0.9781485\ttest: 0.9592639\tbest: 0.9593412 (1540)\ttotal: 2m 30s\tremaining: 5m 19s\n",
      "1700:\tlearn: 0.9799319\ttest: 0.9600234\tbest: 0.9600277 (1699)\ttotal: 2m 39s\tremaining: 5m 8s\n",
      "1800:\tlearn: 0.9814032\ttest: 0.9597448\tbest: 0.9600277 (1699)\ttotal: 2m 47s\tremaining: 4m 58s\n",
      "1900:\tlearn: 0.9830509\ttest: 0.9601910\tbest: 0.9603699 (1879)\ttotal: 2m 56s\tremaining: 4m 47s\n",
      "2000:\tlearn: 0.9843695\ttest: 0.9604316\tbest: 0.9604984 (1991)\ttotal: 3m 5s\tremaining: 4m 37s\n",
      "2100:\tlearn: 0.9855232\ttest: 0.9611411\tbest: 0.9611411 (2100)\ttotal: 3m 14s\tremaining: 4m 28s\n",
      "2200:\tlearn: 0.9867062\ttest: 0.9612617\tbest: 0.9612757 (2194)\ttotal: 3m 23s\tremaining: 4m 18s\n",
      "2300:\tlearn: 0.9877865\ttest: 0.9615775\tbest: 0.9617034 (2261)\ttotal: 3m 31s\tremaining: 4m 8s\n",
      "2400:\tlearn: 0.9887301\ttest: 0.9617535\tbest: 0.9617535 (2400)\ttotal: 3m 40s\tremaining: 3m 58s\n",
      "2500:\tlearn: 0.9895994\ttest: 0.9618713\tbest: 0.9619886 (2466)\ttotal: 3m 49s\tremaining: 3m 49s\n",
      "2600:\tlearn: 0.9903630\ttest: 0.9620526\tbest: 0.9621291 (2579)\ttotal: 3m 58s\tremaining: 3m 39s\n",
      "2700:\tlearn: 0.9910564\ttest: 0.9622417\tbest: 0.9623902 (2646)\ttotal: 4m 6s\tremaining: 3m 30s\n",
      "2800:\tlearn: 0.9916797\ttest: 0.9624881\tbest: 0.9625352 (2745)\ttotal: 4m 15s\tremaining: 3m 20s\n",
      "2900:\tlearn: 0.9922314\ttest: 0.9624078\tbest: 0.9627081 (2821)\ttotal: 4m 24s\tremaining: 3m 11s\n",
      "3000:\tlearn: 0.9928474\ttest: 0.9624655\tbest: 0.9627081 (2821)\ttotal: 4m 32s\tremaining: 3m 1s\n",
      "3100:\tlearn: 0.9932963\ttest: 0.9625395\tbest: 0.9627081 (2821)\ttotal: 4m 41s\tremaining: 2m 52s\n",
      "3200:\tlearn: 0.9936059\ttest: 0.9627916\tbest: 0.9627916 (3200)\ttotal: 4m 50s\tremaining: 2m 43s\n",
      "3300:\tlearn: 0.9939681\ttest: 0.9628485\tbest: 0.9629216 (3245)\ttotal: 4m 59s\tremaining: 2m 34s\n",
      "3400:\tlearn: 0.9945025\ttest: 0.9629767\tbest: 0.9632736 (3386)\ttotal: 5m 8s\tremaining: 2m 24s\n",
      "3500:\tlearn: 0.9947894\ttest: 0.9628974\tbest: 0.9632736 (3386)\ttotal: 5m 17s\tremaining: 2m 15s\n",
      "3600:\tlearn: 0.9951747\ttest: 0.9631691\tbest: 0.9632736 (3386)\ttotal: 5m 26s\tremaining: 2m 6s\n",
      "3700:\tlearn: 0.9954719\ttest: 0.9631438\tbest: 0.9632828 (3644)\ttotal: 5m 34s\tremaining: 1m 57s\n",
      "3800:\tlearn: 0.9956740\ttest: 0.9631680\tbest: 0.9632828 (3644)\ttotal: 5m 43s\tremaining: 1m 48s\n",
      "3900:\tlearn: 0.9959058\ttest: 0.9629672\tbest: 0.9632828 (3644)\ttotal: 5m 52s\tremaining: 1m 39s\n",
      "4000:\tlearn: 0.9960766\ttest: 0.9629504\tbest: 0.9632828 (3644)\ttotal: 6m 1s\tremaining: 1m 30s\n",
      "4100:\tlearn: 0.9963122\ttest: 0.9629920\tbest: 0.9632828 (3644)\ttotal: 6m 10s\tremaining: 1m 21s\n",
      "4200:\tlearn: 0.9965162\ttest: 0.9627987\tbest: 0.9632828 (3644)\ttotal: 6m 18s\tremaining: 1m 12s\n",
      "4300:\tlearn: 0.9966339\ttest: 0.9627968\tbest: 0.9632828 (3644)\ttotal: 6m 27s\tremaining: 1m 2s\n",
      "4400:\tlearn: 0.9967870\ttest: 0.9626487\tbest: 0.9632828 (3644)\ttotal: 6m 36s\tremaining: 54s\n",
      "bestTest = 0.9632828256\n",
      "bestIteration = 3644\n",
      "Shrink model to first 3645 iterations.\n"
     ]
    },
    {
     "data": {
      "text/plain": [
       "<catboost.core.CatBoostClassifier at 0x1625e79b550>"
      ]
     },
     "execution_count": 5,
     "metadata": {},
     "output_type": "execute_result"
    }
   ],
   "source": [
    "\"\"\"\n",
    "註記：若電腦為MAC系列，則須無法使用 task_type='GPU'，可將其註解並且開啟subsample，接受另外兩個參數再進行訓練，超參數皆無須調整\n",
    "\n",
    "\"\"\"\n",
    "catboost_model = CatBoostClassifier(\n",
    "    iterations=5000,  \n",
    "    learning_rate=0.0325,\n",
    "    depth=7,\n",
    "    loss_function='Logloss',\n",
    "    eval_metric='F1',  \n",
    "    early_stopping_rounds=800,\n",
    "    random_seed=42,\n",
    "    verbose=100,\n",
    "    l2_leaf_reg=3,\n",
    "    leaf_estimation_iterations=10,\n",
    "#     colsample_bylevel=0.8,\n",
    "#     subsample=0.85,\n",
    "    max_ctr_complexity=10,\n",
    "    task_type='GPU',\n",
    "    scale_pos_weight = 9.484, # 9.45\n",
    "    random_strength=3,\n",
    "    grow_policy='Lossguide'\n",
    ")\n",
    "\n",
    "catboost_model.fit(\n",
    "    train_pool,\n",
    "    eval_set=test_pool,\n",
    "    use_best_model=True\n",
    ")"
   ]
  },
  {
   "cell_type": "code",
   "execution_count": 6,
   "id": "c09aba70",
   "metadata": {
    "scrolled": true
   },
   "outputs": [
    {
     "name": "stdout",
     "output_type": "stream",
     "text": [
      "Precision: 0.8816859555833594\n"
     ]
    }
   ],
   "source": [
    "y_pred = catboost_model.predict(test_pool)\n",
    "\n",
    "precision = precision_score(y_test, y_pred, average='binary', pos_label=1)\n",
    "\n",
    "print(f\"Precision: {precision}\")\n"
   ]
  },
  {
   "cell_type": "code",
   "execution_count": 7,
   "id": "23d2a18b",
   "metadata": {
    "scrolled": true
   },
   "outputs": [
    {
     "name": "stdout",
     "output_type": "stream",
     "text": [
      "Recall: 0.941544885177453\n"
     ]
    }
   ],
   "source": [
    "recall = recall_score(y_test, y_pred, average='binary', pos_label=1)\n",
    "\n",
    "print(f\"Recall: {recall}\")\n",
    "\n"
   ]
  },
  {
   "cell_type": "code",
   "execution_count": 51,
   "id": "c12af101",
   "metadata": {},
   "outputs": [
    {
     "name": "stdout",
     "output_type": "stream",
     "text": [
      "Best Threshold: 0.7924726969128955\n",
      "Best Precision: 0.9491748595505618\n",
      "Best Recall: 0.9029645093945721\n",
      "f1_scores: 0.9254932169298584\n"
     ]
    }
   ],
   "source": [
    "y_pred_proba = catboost_model.predict_proba(X_test)[:, 1]\n",
    "\n",
    "# 計算精確度和召回率以及閾值\n",
    "precision, recall, thresholds = precision_recall_curve(y_test, y_pred_proba)\n",
    "\n",
    "# 計算 F1 分數\n",
    "f1_scores = 2 * recall * precision / (recall + precision)\n",
    "max_f1_index = np.argmax(f1_scores)\n",
    "best_threshold = thresholds[max_f1_index]\n",
    "\n",
    "# 使用最佳閾值進行預測\n",
    "y_pred_custom = (y_pred_proba > best_threshold).astype(int)\n",
    "\n",
    "# 計算調整後的精確度和召回率\n",
    "adjusted_precision = precision_score(y_test, y_pred_custom)\n",
    "adjusted_recall = recall_score(y_test, y_pred_custom)\n",
    "adjusted_f1 = f1_score(y_test, y_pred_custom)\n",
    "\n",
    "print(f\"Best Threshold: {best_threshold}\")\n",
    "print(f\"Adjusted Precision: {adjusted_precision}\")\n",
    "print(f\"Adjusted Recall: {adjusted_recall}\")\n",
    "print(f\"Adjusted F1 Score: {adjusted_f1}\")"
   ]
  },
  {
   "cell_type": "code",
   "execution_count": 52,
   "id": "892e68c6",
   "metadata": {},
   "outputs": [
    {
     "data": {
      "image/png": "[encoded data removed]",
      "text/plain": [
       "<Figure size 1000x800 with 1 Axes>"
      ]
     },
     "metadata": {},
     "output_type": "display_data"
    }
   ],
   "source": [
    "import matplotlib.pyplot as plt\n",
    "import seaborn as sns\n",
    "\n",
    "# 設置 seaborn 的風格\n",
    "sns.set(style=\"whitegrid\")\n",
    "\n",
    "# 假設 precision, recall, best_recall, best_precision 已經定義好\n",
    "# 繪製 Precision-Recall 曲線\n",
    "plt.figure(figsize=(10, 8))\n",
    "sns.lineplot(x=recall, y=precision, label='PR Curve', linewidth=2)\n",
    "\n",
    "# 標記最佳點\n",
    "plt.scatter(best_recall, best_precision, color='red', s=100, edgecolor='black', zorder=5)\n",
    "plt.text(best_recall, best_precision, f'  (Recall: {best_recall:.2f}, Precision: {best_precision:.2f})', \n",
    "         verticalalignment='bottom', horizontalalignment='right', fontsize=12)\n",
    "\n",
    "# 添加圖表標題和標籤\n",
    "plt.xlabel('Recall', fontsize=14)\n",
    "plt.ylabel('Precision', fontsize=14)\n",
    "plt.title('Precision-Recall Curve', fontsize=16)\n",
    "plt.xticks(fontsize=12)\n",
    "plt.yticks(fontsize=12)\n",
    "\n",
    "# 添加圖例\n",
    "plt.legend(fontsize=14, loc='lower left')\n",
    "\n",
    "# 顯示圖表\n",
    "plt.show()\n"
   ]
  },
  {
   "cell_type": "code",
   "execution_count": null,
   "id": "e3658814",
   "metadata": {},
   "outputs": [],
   "source": [
    "plt.figure(figsize=(8, 6))\n",
    "\n",
    "for spw, model in zip(scale_pos_weight_values, models):\n",
    "    y_pred_prob = model.predict_proba(test_pool)[:, 1]\n",
    "    precision, recall, _ = precision_recall_curve(y_test, y_pred_prob)\n",
    "    auc_score = auc(recall, precision)\n",
    "    plt.plot(recall, precision, label=f'SPW={spw} (AUC = {auc_score:.2f})')\n",
    "\n",
    "plt.xlabel('Recall')\n",
    "plt.ylabel('Precision')\n",
    "plt.title('Precision-Recall Curves for Different scale_pos_weight')\n",
    "plt.legend()\n",
    "plt.show()\n"
   ]
  },
  {
   "cell_type": "code",
   "execution_count": null,
   "id": "a1dc16c4",
   "metadata": {},
   "outputs": [],
   "source": []
  },
  {
   "cell_type": "code",
   "execution_count": null,
   "id": "bf8f97d5",
   "metadata": {},
   "outputs": [],
   "source": []
  },
  {
   "cell_type": "code",
   "execution_count": 10,
   "id": "684d5beb",
   "metadata": {
    "scrolled": true
   },
   "outputs": [
    {
     "name": "stdout",
     "output_type": "stream",
     "text": [
      "                                  Feature  Importance\n",
      "29                           avg_interval    8.468756\n",
      "18                 card_transaction_count    7.020192\n",
      "19            customer_total_transactions    6.673849\n",
      "22                           ratio_change    6.251935\n",
      "30                           std_interval    6.212613\n",
      "6                                     mcc    5.078966\n",
      "38                 transactions_per_mchno    4.844085\n",
      "4                                   mchno    4.264923\n",
      "5                                   acqic    4.091834\n",
      "31                 transactions_per_mcc_x    3.650362\n",
      "11                                  stocn    3.419108\n",
      "39                     mchno_total_amount    3.021122\n",
      "37         mad_transaction_amount_per_mcc    2.873923\n",
      "0                                   locdt    2.803130\n",
      "32                     mcc_total_amount_x    2.235043\n",
      "34                 transactions_per_mcc_y    2.200426\n",
      "24                        max_daily_trans    2.041734\n",
      "12                                  scity    1.740836\n",
      "14                                  hcefg    1.541206\n",
      "40  variance_transaction_amount_per_mchno    1.497157\n",
      "41       mad_transaction_amount_per_mchno    1.451951\n",
      "21        card_transaction_ratio_after_30    1.440031\n",
      "1                                   loctm    1.420415\n",
      "3                                   etymd    1.380848\n",
      "16                                  csmam    1.189079\n",
      "35                     mcc_total_amount_y    1.167858\n",
      "20       card_transaction_ratio_before_30    1.166040\n",
      "33  variance_transaction_amount_per_mcc_x    1.133423\n",
      "2                                   contp    1.108906\n",
      "27                normalized_daily_amount    1.039847\n",
      "44                                   hour    0.961453\n",
      "8                                    ecfg    0.775037\n",
      "10                                  flam1    0.733409\n",
      "28                     difference_seconds    0.731941\n",
      "7                                   conam    0.643761\n",
      "45                          loctm_seconds    0.566477\n",
      "13                                  stscd    0.557329\n",
      "36  variance_transaction_amount_per_mcc_y    0.535047\n",
      "25                     daily_transactions    0.497316\n",
      "26                  normalized_trans_freq    0.420391\n",
      "17                              flg_3dsmk    0.420194\n",
      "23                        min_daily_trans    0.199731\n",
      "43                         country_change    0.173022\n",
      "9                                   insfg    0.120894\n",
      "15                                  csmcu    0.119610\n",
      "42                            city_change    0.114791\n"
     ]
    }
   ],
   "source": [
    "# 查看特徵\n",
    "\n",
    "feature_names =['locdt', 'loctm', 'contp', 'etymd', 'mchno', 'acqic', 'mcc', \n",
    "                'conam', 'ecfg', 'insfg', 'flam1', 'stocn', 'scity', 'stscd', \n",
    "                'hcefg', 'csmcu', 'csmam', 'flg_3dsmk', 'card_transaction_count', \n",
    "                'customer_total_transactions', 'card_transaction_ratio_before_30', \n",
    "                'card_transaction_ratio_after_30', 'ratio_change', 'min_daily_trans', \n",
    "                'max_daily_trans', 'daily_transactions', 'normalized_trans_freq', \n",
    "                'normalized_daily_amount', 'difference_seconds', 'avg_interval', \n",
    "                'std_interval', 'transactions_per_mcc_x', 'mcc_total_amount_x', \n",
    "                'variance_transaction_amount_per_mcc_x', 'transactions_per_mcc_y', \n",
    "                'mcc_total_amount_y', 'variance_transaction_amount_per_mcc_y', \n",
    "                'mad_transaction_amount_per_mcc', 'transactions_per_mchno', 'mchno_total_amount', \n",
    "                'variance_transaction_amount_per_mchno', 'mad_transaction_amount_per_mchno', \n",
    "                'city_change', 'country_change', 'hour', 'loctm_seconds']\n",
    "\n",
    "feature_importances = catboost_model.feature_importances_\n",
    "\n",
    "feature_importance_df = pd.DataFrame({\n",
    "    'Feature': feature_names,\n",
    "    'Importance': feature_importances\n",
    "})\n",
    "\n",
    "feature_importance_df = feature_importance_df.sort_values(by='Importance', ascending=False)\n",
    "\n",
    "# Display the feature importance\n",
    "print(feature_importance_df)\n"
   ]
  },
  {
   "cell_type": "code",
   "execution_count": 11,
   "id": "cf5d078c",
   "metadata": {},
   "outputs": [],
   "source": [
    "# Save the model to a file\n",
    "model_path = 'dataset_2nd/model.cbm'\n",
    "catboost_model.save_model(model_path, format='cbm')\n"
   ]
  },
  {
   "cell_type": "markdown",
   "id": "dbdd30a0",
   "metadata": {},
   "source": [
    "# 預測和輸出資料"
   ]
  },
  {
   "cell_type": "code",
   "execution_count": 12,
   "id": "c9f352a7",
   "metadata": {
    "scrolled": true
   },
   "outputs": [],
   "source": [
    "new_val_data = new_val_data.set_index('txkey')"
   ]
  },
  {
   "cell_type": "code",
   "execution_count": 13,
   "id": "8e3fd7ec",
   "metadata": {
    "scrolled": true
   },
   "outputs": [],
   "source": [
    "columns_to_drop = ['chid', 'cano', 'bnsfg', 'flbmk', 'ovrlt', 'iterm']\n",
    "\n",
    "cat_features = ['contp', 'etymd', 'mcc', 'ecfg', 'stocn', 'scity', 'insfg', 'mchno', 'acqic',\n",
    "                'stscd', 'hcefg', 'csmcu', 'flg_3dsmk', 'hour','city_change', 'country_change']\n",
    "\n",
    "X = new_val_data.drop(columns=columns_to_drop)\n",
    "\n",
    "for feature in cat_features:\n",
    "    X[feature] = X[feature].astype(str)\n",
    "    \n",
    "test_pool = Pool(X, cat_features=cat_features)\n"
   ]
  },
  {
   "cell_type": "code",
   "execution_count": 14,
   "id": "c8e53acf",
   "metadata": {
    "scrolled": true
   },
   "outputs": [],
   "source": [
    "y_pred = catboost_model.predict(test_pool).astype(int)\n",
    "new_val_data['pred']= y_pred\n",
    "new_val_data =new_val_data.reset_index()\n",
    "\n",
    "output_df = new_val_data[['txkey', 'pred']].set_index('txkey')\n",
    "example = example.drop_duplicates(subset='txkey')\n",
    "\n",
    "df2_sorted = example[['txkey']].merge(output_df, on='txkey', how='left')\n",
    "df2_sorted = df2_sorted.set_index('txkey')"
   ]
  },
  {
   "cell_type": "code",
   "execution_count": 15,
   "id": "91557fd7",
   "metadata": {
    "scrolled": true
   },
   "outputs": [],
   "source": [
    "output_filename = 'dataset_2nd/predictions_secondround.csv'\n",
    "df2_sorted.to_csv(output_filename, index='True')"
   ]
  },
  {
   "cell_type": "markdown",
   "id": "ebf8ca81",
   "metadata": {},
   "source": [
    "# 用PRC 修正\n"
   ]
  },
  {
   "cell_type": "code",
   "execution_count": 57,
   "id": "0ad5a5f4",
   "metadata": {},
   "outputs": [],
   "source": [
    "new_val_data = new_val_data.set_index('txkey')\n",
    "columns_to_drop = ['chid', 'cano', 'bnsfg', 'flbmk', 'ovrlt', 'iterm']\n",
    "\n",
    "cat_features = ['contp', 'etymd', 'mcc', 'ecfg', 'stocn', 'scity', 'insfg', 'mchno', 'acqic',\n",
    "                'stscd', 'hcefg', 'csmcu', 'flg_3dsmk', 'hour','city_change', 'country_change']\n",
    "\n",
    "X = new_val_data.drop(columns=columns_to_drop)\n",
    "\n",
    "for feature in cat_features:\n",
    "    X[feature] = X[feature].astype(str)\n",
    "    \n",
    "test_pool = Pool(X, cat_features=cat_features)\n"
   ]
  },
  {
   "cell_type": "code",
   "execution_count": 58,
   "id": "b07db53a",
   "metadata": {},
   "outputs": [],
   "source": [
    "y_pred_proba = catboost_model.predict_proba(test_pool)[:, 1]\n",
    "y_pred_custom = (y_pred_proba > best_threshold).astype(int)\n",
    "new_val_data['pred'] = y_pred_custom\n",
    "new_val_data = new_val_data.reset_index()\n",
    "output_df = new_val_data[['txkey', 'pred']].set_index('txkey')\n",
    "example = example.drop_duplicates(subset='txkey')\n",
    "\n",
    "df2_sorted = example[['txkey']].merge(output_df, on='txkey', how='left')\n",
    "df2_sorted = df2_sorted.set_index('txkey')\n"
   ]
  },
  {
   "cell_type": "code",
   "execution_count": 59,
   "id": "7eb5fdda",
   "metadata": {},
   "outputs": [
    {
     "data": {
      "text/html": [
       "<div>\n",
       "<style scoped>\n",
       "    .dataframe tbody tr th:only-of-type {\n",
       "        vertical-align: middle;\n",
       "    }\n",
       "\n",
       "    .dataframe tbody tr th {\n",
       "        vertical-align: top;\n",
       "    }\n",
       "\n",
       "    .dataframe thead th {\n",
       "        text-align: right;\n",
       "    }\n",
       "</style>\n",
       "<table border=\"1\" class=\"dataframe\">\n",
       "  <thead>\n",
       "    <tr style=\"text-align: right;\">\n",
       "      <th></th>\n",
       "      <th>pred</th>\n",
       "    </tr>\n",
       "    <tr>\n",
       "      <th>txkey</th>\n",
       "      <th></th>\n",
       "    </tr>\n",
       "  </thead>\n",
       "  <tbody>\n",
       "    <tr>\n",
       "      <th>a2c1209018e4e52e04f6fabb48f05f1b8bc09dc838ff6cb19906377fab414587</th>\n",
       "      <td>0</td>\n",
       "    </tr>\n",
       "    <tr>\n",
       "      <th>16c4880500059e01553789be11bbb50753b7acaae7b95bdcf6fb293a4d4a6e36</th>\n",
       "      <td>0</td>\n",
       "    </tr>\n",
       "    <tr>\n",
       "      <th>623c56be3bee87724e3d119c271d9ed098eeda842331830bcdcdee205329a531</th>\n",
       "      <td>0</td>\n",
       "    </tr>\n",
       "    <tr>\n",
       "      <th>250da12187059cf6e3a3066656a2919d08ceb8207efd550b3cf64eb47ae64d4d</th>\n",
       "      <td>0</td>\n",
       "    </tr>\n",
       "    <tr>\n",
       "      <th>4b268e0da036f44cbbb056ddfac6a28ea336d9cf299843bc7d40f3f7cb6c2d9f</th>\n",
       "      <td>0</td>\n",
       "    </tr>\n",
       "    <tr>\n",
       "      <th>...</th>\n",
       "      <td>...</td>\n",
       "    </tr>\n",
       "    <tr>\n",
       "      <th>47cd55bd7492e01e197b61799d072e6ca9e1c118bc76e924176566adab0d2b29</th>\n",
       "      <td>0</td>\n",
       "    </tr>\n",
       "    <tr>\n",
       "      <th>26cef9cc35fb73bedd08a711ebb6d612e4af7dd7b62e7c782aa58760bddd9cbc</th>\n",
       "      <td>0</td>\n",
       "    </tr>\n",
       "    <tr>\n",
       "      <th>f12f861ef6a8517ecddae262c1cc895f618e7e8c19eb9a768fc0b567e1e127d7</th>\n",
       "      <td>0</td>\n",
       "    </tr>\n",
       "    <tr>\n",
       "      <th>638b1a6a6f4389b7af60a6cb0ca908c82d0bdffc6924b0d50ea05f151683ec0e</th>\n",
       "      <td>0</td>\n",
       "    </tr>\n",
       "    <tr>\n",
       "      <th>9b9a8957b74f24aedbb085924fb3cc7653c980607ff81877a196253cd102802a</th>\n",
       "      <td>0</td>\n",
       "    </tr>\n",
       "  </tbody>\n",
       "</table>\n",
       "<p>1354321 rows × 1 columns</p>\n",
       "</div>"
      ],
      "text/plain": [
       "                                                    pred\n",
       "txkey                                                   \n",
       "a2c1209018e4e52e04f6fabb48f05f1b8bc09dc838ff6cb...     0\n",
       "16c4880500059e01553789be11bbb50753b7acaae7b95bd...     0\n",
       "623c56be3bee87724e3d119c271d9ed098eeda842331830...     0\n",
       "250da12187059cf6e3a3066656a2919d08ceb8207efd550...     0\n",
       "4b268e0da036f44cbbb056ddfac6a28ea336d9cf299843b...     0\n",
       "...                                                  ...\n",
       "47cd55bd7492e01e197b61799d072e6ca9e1c118bc76e92...     0\n",
       "26cef9cc35fb73bedd08a711ebb6d612e4af7dd7b62e7c7...     0\n",
       "f12f861ef6a8517ecddae262c1cc895f618e7e8c19eb9a7...     0\n",
       "638b1a6a6f4389b7af60a6cb0ca908c82d0bdffc6924b0d...     0\n",
       "9b9a8957b74f24aedbb085924fb3cc7653c980607ff8187...     0\n",
       "\n",
       "[1354321 rows x 1 columns]"
      ]
     },
     "execution_count": 59,
     "metadata": {},
     "output_type": "execute_result"
    }
   ],
   "source": [
    "df2_sorted"
   ]
  },
  {
   "cell_type": "code",
   "execution_count": null,
   "id": "f02ceefa",
   "metadata": {},
   "outputs": [],
   "source": []
  }
 ],
 "metadata": {
  "kernelspec": {
   "display_name": "Python 3 (ipykernel)",
   "language": "python",
   "name": "python3"
  },
  "language_info": {
   "codemirror_mode": {
    "name": "ipython",
    "version": 3
   },
   "file_extension": ".py",
   "mimetype": "text/x-python",
   "name": "python",
   "nbconvert_exporter": "python",
   "pygments_lexer": "ipython3",
   "version": "3.10.10"
  }
 },
 "nbformat": 4,
 "nbformat_minor": 5
}
