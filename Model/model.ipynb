{
 "cells": [
  {
   "cell_type": "code",
   "execution_count": 57,
   "id": "5178d3cd-3f38-4996-ac55-3ca9f71a44df",
   "metadata": {},
   "outputs": [],
   "source": [
    "new_train_data = pd.read_parquet('processed_data.parquet')\n",
    "new_val_data = pd.read_parquet('val_data.parquet')\n",
    "example = pd.read_csv('dataset_2nd/private_2_template_v2.csv')"
   ]
  },
  {
   "cell_type": "code",
   "execution_count": 61,
   "id": "ee197b6c-b8d4-46df-9e06-d9afdf9c4631",
   "metadata": {
    "tags": []
   },
   "outputs": [],
   "source": [
    "cat_features = ['contp', 'etymd', 'mcc', 'ecfg', 'stocn', 'scity', 'insfg', 'mchno', 'acqic',\n",
    "                'stscd', 'hcefg', 'csmcu', 'flg_3dsmk', 'hour']\n",
    "\n",
    "columns_to_drop = ['label', 'txkey', 'chid', 'cano', 'bnsfg', 'flbmk', 'ovrlt', 'iterm', 'first_use_date',\n",
    "                   'last_use_date', 'days_active']\n",
    "\n",
    "# 從數據框中刪除指定的列\n",
    "X = new_train_data.drop(columns=columns_to_drop)\n",
    "y = new_train_data['label']\n"
   ]
  },
  {
   "cell_type": "code",
   "execution_count": 62,
   "id": "1f8f3de7-c02f-452c-a249-8f9d68bb88a2",
   "metadata": {
    "tags": []
   },
   "outputs": [],
   "source": [
    "for feature in cat_features:\n",
    "    X[feature] = X[feature].astype(str)\n",
    "    \n",
    "X_train, X_test, y_train, y_test = train_test_split(\n",
    "    X, y, \n",
    "    test_size=0.35, \n",
    "    random_state=40, \n",
    "    stratify=y\n",
    ")\n",
    "\n",
    "train_pool = Pool(X_train, y_train,cat_features=cat_features)\n",
    "test_pool = Pool(X_test, y_test,cat_features=cat_features)"
   ]
  },
  {
   "cell_type": "code",
   "execution_count": 63,
   "id": "4f3cb6b4-377d-44eb-9723-33d42827e34f",
   "metadata": {
    "tags": []
   },
   "outputs": [],
   "source": [
    "for feature in cat_features:\n",
    "    X[feature] = X[feature].astype(str)\n",
    "    \n",
    "X_train, X_test, y_train, y_test = train_test_split(\n",
    "    X, y, \n",
    "    test_size=0.35, \n",
    "    random_state=40, \n",
    "    stratify=y\n",
    ")\n",
    "\n",
    "train_pool = Pool(X_train, y_train,cat_features=cat_features)\n",
    "test_pool = Pool(X_test, y_test,cat_features=cat_features)"
   ]
  },
  {
   "cell_type": "code",
   "execution_count": 70,
   "id": "f053fcf1-5e31-44c7-a844-bdf67466d716",
   "metadata": {
    "tags": []
   },
   "outputs": [
    {
     "name": "stdout",
     "output_type": "stream",
     "text": [
      "0:\tlearn: 0.8481921\ttest: 0.8500659\tbest: 0.8500659 (0)\ttotal: 1.61s\tremaining: 2h 14m 20s\n",
      "100:\tlearn: 0.9164226\ttest: 0.9157306\tbest: 0.9158556 (99)\ttotal: 2m 23s\tremaining: 1h 55m 36s\n",
      "200:\tlearn: 0.9302458\ttest: 0.9255256\tbest: 0.9255256 (200)\ttotal: 4m 51s\tremaining: 1h 56m 1s\n",
      "300:\tlearn: 0.9418728\ttest: 0.9327726\tbest: 0.9327726 (300)\ttotal: 7m 5s\tremaining: 1h 50m 38s\n",
      "400:\tlearn: 0.9498999\ttest: 0.9384845\tbest: 0.9384845 (400)\ttotal: 9m 7s\tremaining: 1h 44m 43s\n",
      "500:\tlearn: 0.9569375\ttest: 0.9438146\tbest: 0.9438146 (500)\ttotal: 11m 5s\tremaining: 1h 39m 35s\n",
      "600:\tlearn: 0.9622362\ttest: 0.9464727\tbest: 0.9464767 (599)\ttotal: 13m 1s\tremaining: 1h 35m 18s\n",
      "700:\tlearn: 0.9661670\ttest: 0.9483984\tbest: 0.9485467 (695)\ttotal: 14m 50s\tremaining: 1h 30m 58s\n",
      "800:\tlearn: 0.9696428\ttest: 0.9501022\tbest: 0.9502713 (789)\ttotal: 16m 39s\tremaining: 1h 27m 19s\n",
      "900:\tlearn: 0.9727747\ttest: 0.9517177\tbest: 0.9517177 (900)\ttotal: 18m 28s\tremaining: 1h 24m 3s\n",
      "1000:\tlearn: 0.9755051\ttest: 0.9531337\tbest: 0.9531944 (999)\ttotal: 20m 21s\tremaining: 1h 21m 18s\n",
      "1100:\tlearn: 0.9781243\ttest: 0.9550700\tbest: 0.9550740 (1097)\ttotal: 22m 9s\tremaining: 1h 18m 27s\n",
      "1200:\tlearn: 0.9802057\ttest: 0.9554955\tbest: 0.9556481 (1179)\ttotal: 23m 57s\tremaining: 1h 15m 47s\n",
      "1300:\tlearn: 0.9820527\ttest: 0.9560736\tbest: 0.9561758 (1287)\ttotal: 25m 43s\tremaining: 1h 13m 7s\n",
      "1400:\tlearn: 0.9837484\ttest: 0.9566640\tbest: 0.9567828 (1394)\ttotal: 27m 26s\tremaining: 1h 10m 28s\n",
      "1500:\tlearn: 0.9853360\ttest: 0.9577104\tbest: 0.9577924 (1493)\ttotal: 29m 9s\tremaining: 1h 7m 58s\n",
      "1600:\tlearn: 0.9864233\ttest: 0.9581059\tbest: 0.9581759 (1591)\ttotal: 30m 53s\tremaining: 1h 5m 34s\n",
      "1700:\tlearn: 0.9876074\ttest: 0.9584131\tbest: 0.9584904 (1688)\ttotal: 32m 32s\tremaining: 1h 3m 7s\n",
      "1800:\tlearn: 0.9886710\ttest: 0.9586393\tbest: 0.9588151 (1789)\ttotal: 34m 13s\tremaining: 1h 46s\n",
      "1900:\tlearn: 0.9897474\ttest: 0.9586922\tbest: 0.9588705 (1832)\ttotal: 35m 54s\tremaining: 58m 33s\n",
      "2000:\tlearn: 0.9903429\ttest: 0.9590619\tbest: 0.9591152 (1986)\ttotal: 37m 33s\tremaining: 56m 18s\n",
      "2100:\tlearn: 0.9911224\ttest: 0.9591563\tbest: 0.9592543 (2095)\ttotal: 39m 11s\tremaining: 54m 4s\n",
      "2200:\tlearn: 0.9920417\ttest: 0.9591281\tbest: 0.9592543 (2095)\ttotal: 40m 53s\tremaining: 52m\n",
      "2300:\tlearn: 0.9928138\ttest: 0.9593534\tbest: 0.9593860 (2293)\ttotal: 42m 34s\tremaining: 49m 56s\n",
      "2400:\tlearn: 0.9933350\ttest: 0.9592450\tbest: 0.9593940 (2303)\ttotal: 44m 7s\tremaining: 47m 45s\n",
      "2500:\tlearn: 0.9938789\ttest: 0.9593608\tbest: 0.9594790 (2492)\ttotal: 45m 43s\tremaining: 45m 41s\n",
      "2600:\tlearn: 0.9944089\ttest: 0.9596522\tbest: 0.9597703 (2561)\ttotal: 47m 19s\tremaining: 43m 39s\n",
      "2700:\tlearn: 0.9947881\ttest: 0.9595760\tbest: 0.9598260 (2634)\ttotal: 49m\tremaining: 41m 42s\n",
      "2800:\tlearn: 0.9951270\ttest: 0.9593379\tbest: 0.9598260 (2634)\ttotal: 50m 35s\tremaining: 39m 42s\n",
      "2900:\tlearn: 0.9955213\ttest: 0.9595319\tbest: 0.9598260 (2634)\ttotal: 52m 15s\tremaining: 37m 48s\n",
      "3000:\tlearn: 0.9958103\ttest: 0.9597587\tbest: 0.9598260 (2634)\ttotal: 53m 53s\tremaining: 35m 53s\n",
      "3100:\tlearn: 0.9961483\ttest: 0.9594959\tbest: 0.9598260 (2634)\ttotal: 55m 28s\tremaining: 33m 58s\n",
      "Stopped by overfitting detector  (500 iterations wait)\n",
      "\n",
      "bestTest = 0.9598259593\n",
      "bestIteration = 2634\n",
      "\n",
      "Shrink model to first 2635 iterations.\n"
     ]
    },
    {
     "data": {
      "text/plain": [
       "<catboost.core.CatBoostClassifier at 0x7f161d2641f0>"
      ]
     },
     "execution_count": 70,
     "metadata": {},
     "output_type": "execute_result"
    }
   ],
   "source": [
    "\"\"\"\n",
    "註記：若電腦為MAC系列，則須無法使用 task_type='GPU'，可將其註解並且開啟subsample，接受另外兩個參數再進行訓練，超參數皆無須調整\n",
    "\n",
    "\"\"\"\n",
    "catboost_model = CatBoostClassifier(\n",
    "    iterations=5000,  \n",
    "    learning_rate=0.0765,\n",
    "    depth=7,\n",
    "    loss_function='Logloss',\n",
    "    eval_metric='F1',  \n",
    "    early_stopping_rounds=500,\n",
    "    random_seed=42,\n",
    "    verbose=100,\n",
    "    l2_leaf_reg=3,\n",
    "    leaf_estimation_iterations=10,\n",
    "    colsample_bylevel=0.8,\n",
    "    subsample=0.85,\n",
    "    max_ctr_complexity=10,\n",
    "#     task_type='GPU',\n",
    "    scale_pos_weight = 9.35, # 9.45\n",
    "    random_strength=3,\n",
    "    grow_policy='Lossguide'\n",
    ")\n",
    "\n",
    "catboost_model.fit(\n",
    "    train_pool,\n",
    "    eval_set=test_pool,\n",
    "    use_best_model=True\n",
    ")"
   ]
  },
  {
   "cell_type": "code",
   "execution_count": 73,
   "id": "05bc2d02-5242-4a64-a532-fc0a6928c8b0",
   "metadata": {
    "tags": []
   },
   "outputs": [
    {
     "name": "stdout",
     "output_type": "stream",
     "text": [
      "Best Threshold: 0.7577747057300599\n",
      "Adjusted Precision: 0.9419632194888942\n",
      "Adjusted Recall: 0.9009365719942131\n"
     ]
    }
   ],
   "source": [
    "# 預測概率\n",
    "y_pred_proba = catboost_model.predict_proba(X_test)[:, 1]\n",
    "\n",
    "# 計算精確度和召回率以及閾值\n",
    "precision, recall, thresholds = precision_recall_curve(y_test, y_pred_proba)\n",
    "\n",
    "# 計算 F1 分數\n",
    "f1_scores = 2 * recall * precision / (recall + precision)\n",
    "max_f1_index = np.argmax(f1_scores)\n",
    "best_threshold = thresholds[max_f1_index]\n",
    "\n",
    "# 使用最佳閾值進行預測\n",
    "y_pred_custom = (y_pred_proba > best_threshold).astype(int)\n",
    "\n",
    "# 計算調整後的精確度和召回率\n",
    "adjusted_precision = precision_score(y_test, y_pred_custom)\n",
    "adjusted_recall = recall_score(y_test, y_pred_custom)\n",
    "adjusted_f1 = f1_score(y_test, y_pred_custom)\n",
    "\n",
    "print(f\"Best Threshold: {best_threshold}\")\n",
    "print(f\"Adjusted Precision: {adjusted_precision}\")\n",
    "print(f\"Adjusted Recall: {adjusted_recall}\")"
   ]
  },
  {
   "cell_type": "code",
   "execution_count": 74,
   "id": "56deb123-784b-4cbe-9961-495d98071f50",
   "metadata": {
    "tags": []
   },
   "outputs": [
    {
     "data": {
      "image/png": "[encoded data removed]",
      "text/plain": [
       "<Figure size 1000x800 with 1 Axes>"
      ]
     },
     "metadata": {},
     "output_type": "display_data"
    }
   ],
   "source": [
    "import matplotlib.pyplot as plt\n",
    "\n",
    "# 假設 y_test 和 y_pred_proba 已經定義好\n",
    "precision, recall, thresholds = precision_recall_curve(y_test, y_pred_proba)\n",
    "\n",
    "# 計算 F1 分數\n",
    "f1_scores = 2 * recall * precision / (recall + precision)\n",
    "\n",
    "# 找到最大 F1 分數對應的閾值\n",
    "max_f1_index = np.argmax(f1_scores)\n",
    "best_threshold = thresholds[max_f1_index]\n",
    "best_precision = precision[max_f1_index]\n",
    "best_recall = recall[max_f1_index]\n",
    "\n",
    "# 繪製 PR 曲線\n",
    "plt.figure(figsize=(10, 8))\n",
    "plt.plot(recall, precision, label='PR Curve', color='blue', linewidth=2)\n",
    "plt.scatter(best_recall, best_precision, color='red', s=100, edgecolor='black', zorder=5)\n",
    "plt.title('Precision-Recall Curve', fontsize=16)\n",
    "plt.xlabel('Recall', fontsize=14)\n",
    "plt.ylabel('Precision', fontsize=14)\n",
    "plt.grid(True, linestyle='--', linewidth=0.5)\n",
    "plt.xticks(fontsize=12)\n",
    "plt.yticks(fontsize=12)\n",
    "\n",
    "# 標記最佳閾值和對應的精確度、召回率\n",
    "plt.text(best_recall, best_precision, f'  Best\\n  (Threshold: {best_threshold:.2f},\\n   Precision: {best_precision:.2f},\\n   Recall: {best_recall:.2f})', \n",
    "         verticalalignment='bottom', horizontalalignment='right', fontsize=12)\n",
    "\n",
    "plt.legend(fontsize=14)\n",
    "plt.show()\n",
    "\n"
   ]
  },
  {
   "cell_type": "code",
   "execution_count": 76,
   "id": "024c8dfc-3808-47e0-bfd8-03d028053d58",
   "metadata": {
    "tags": []
   },
   "outputs": [],
   "source": [
    "new_val_data = new_val_data.set_index('txkey')\n",
    "columns_to_drop = ['chid', 'cano', 'bnsfg', 'flbmk', 'ovrlt', 'iterm', 'first_use_date',\n",
    "                   'last_use_date', 'days_active']\n",
    "\n",
    "cat_features = ['contp', 'etymd', 'mcc', 'ecfg', 'stocn', 'scity', 'insfg', 'mchno', 'acqic',\n",
    "                'stscd', 'hcefg', 'csmcu', 'flg_3dsmk', 'hour']\n",
    "\n",
    "X = new_val_data.drop(columns=columns_to_drop)\n",
    "\n",
    "for feature in cat_features:\n",
    "    X[feature] = X[feature].astype(str)\n",
    "    \n",
    "test_pool = Pool(X, cat_features=cat_features)\n"
   ]
  },
  {
   "cell_type": "code",
   "execution_count": 77,
   "id": "02edff16-222b-4628-9c2f-55b29101eca3",
   "metadata": {
    "tags": []
   },
   "outputs": [
    {
     "data": {
      "text/html": [
       "<div>\n",
       "<style scoped>\n",
       "    .dataframe tbody tr th:only-of-type {\n",
       "        vertical-align: middle;\n",
       "    }\n",
       "\n",
       "    .dataframe tbody tr th {\n",
       "        vertical-align: top;\n",
       "    }\n",
       "\n",
       "    .dataframe thead th {\n",
       "        text-align: right;\n",
       "    }\n",
       "</style>\n",
       "<table border=\"1\" class=\"dataframe\">\n",
       "  <thead>\n",
       "    <tr style=\"text-align: right;\">\n",
       "      <th></th>\n",
       "      <th>pred</th>\n",
       "    </tr>\n",
       "    <tr>\n",
       "      <th>txkey</th>\n",
       "      <th></th>\n",
       "    </tr>\n",
       "  </thead>\n",
       "  <tbody>\n",
       "    <tr>\n",
       "      <th>2dc3cfff76e54b508aec3a1ab7d3f3b9770d670c9cb9888f45ab96039212d609</th>\n",
       "      <td>0</td>\n",
       "    </tr>\n",
       "    <tr>\n",
       "      <th>5e4e0386a88cdf7847631e80fb129bbbf942a8ab68390bed581bf25738547e2f</th>\n",
       "      <td>0</td>\n",
       "    </tr>\n",
       "    <tr>\n",
       "      <th>ba2ec4f84fa996e4dbcb42984451b217fe2e9cd0b7d3da363c76df34b59ee6e0</th>\n",
       "      <td>0</td>\n",
       "    </tr>\n",
       "    <tr>\n",
       "      <th>a6f137a7444829310471ff9dd051addc349920ae07c5bbbd86ee4a58c05c8d8f</th>\n",
       "      <td>0</td>\n",
       "    </tr>\n",
       "    <tr>\n",
       "      <th>b4b3f47913e3142ca7cc54ab5d98fafc00174ad1c632069b3babc30f7ad9daad</th>\n",
       "      <td>0</td>\n",
       "    </tr>\n",
       "    <tr>\n",
       "      <th>...</th>\n",
       "      <td>...</td>\n",
       "    </tr>\n",
       "    <tr>\n",
       "      <th>f192c75180efd46e8746c9926d48f89b4f9bd730974d675d68f6bedc82ecdc06</th>\n",
       "      <td>0</td>\n",
       "    </tr>\n",
       "    <tr>\n",
       "      <th>79a032788e6f1c684a8c1ac514f8bd3c9fc9949869860492e9e5bea9c623db83</th>\n",
       "      <td>0</td>\n",
       "    </tr>\n",
       "    <tr>\n",
       "      <th>03bd77b8d2e0fa4a2d5d6fa417afb3f94ba65e4d3075ff494c8690ce18af3378</th>\n",
       "      <td>0</td>\n",
       "    </tr>\n",
       "    <tr>\n",
       "      <th>ddea7082b8a1830efa2f80b36e02378475ad89b7b2fa7498573e529de9e8fc11</th>\n",
       "      <td>0</td>\n",
       "    </tr>\n",
       "    <tr>\n",
       "      <th>5a5fca48dffaf0787a8e8a63e89cdd1120b3709a4940cfa7dfa84c8c288a42e5</th>\n",
       "      <td>0</td>\n",
       "    </tr>\n",
       "  </tbody>\n",
       "</table>\n",
       "<p>805721 rows × 1 columns</p>\n",
       "</div>"
      ],
      "text/plain": [
       "                                                    pred\n",
       "txkey                                                   \n",
       "2dc3cfff76e54b508aec3a1ab7d3f3b9770d670c9cb9888...     0\n",
       "5e4e0386a88cdf7847631e80fb129bbbf942a8ab68390be...     0\n",
       "ba2ec4f84fa996e4dbcb42984451b217fe2e9cd0b7d3da3...     0\n",
       "a6f137a7444829310471ff9dd051addc349920ae07c5bbb...     0\n",
       "b4b3f47913e3142ca7cc54ab5d98fafc00174ad1c632069...     0\n",
       "...                                                  ...\n",
       "f192c75180efd46e8746c9926d48f89b4f9bd730974d675...     0\n",
       "79a032788e6f1c684a8c1ac514f8bd3c9fc994986986049...     0\n",
       "03bd77b8d2e0fa4a2d5d6fa417afb3f94ba65e4d3075ff4...     0\n",
       "ddea7082b8a1830efa2f80b36e02378475ad89b7b2fa749...     0\n",
       "5a5fca48dffaf0787a8e8a63e89cdd1120b3709a4940cfa...     0\n",
       "\n",
       "[805721 rows x 1 columns]"
      ]
     },
     "execution_count": 77,
     "metadata": {},
     "output_type": "execute_result"
    }
   ],
   "source": [
    "y_pred_proba = catboost_model.predict_proba(test_pool)[:, 1]\n",
    "y_pred_custom = (y_pred_proba > best_threshold).astype(int)\n",
    "new_val_data['pred'] = y_pred_custom\n",
    "new_val_data = new_val_data.reset_index()\n",
    "output_df = new_val_data[['txkey', 'pred']].set_index('txkey')\n",
    "example = example.drop_duplicates(subset='txkey')\n",
    "\n",
    "df2_sorted = example[['txkey']].merge(output_df, on='txkey', how='left')\n",
    "df2_sorted = df2_sorted.set_index('txkey')\n",
    "df2_sorted"
   ]
  },
  {
   "cell_type": "code",
   "execution_count": 79,
   "id": "35420e21-62c8-48e9-9bf5-05824b0f2cd4",
   "metadata": {
    "tags": []
   },
   "outputs": [
    {
     "data": {
      "text/plain": [
       "pred\n",
       "0    801733\n",
       "1      3988\n",
       "Name: count, dtype: int64"
      ]
     },
     "execution_count": 79,
     "metadata": {},
     "output_type": "execute_result"
    }
   ],
   "source": [
    "df2_sorted['pred'].value_counts()"
   ]
  },
  {
   "cell_type": "code",
   "execution_count": 82,
   "id": "09393de4-41bf-4b7f-b921-947f50be49af",
   "metadata": {
    "tags": []
   },
   "outputs": [],
   "source": [
    "df2_sorted.to_csv('data2/TEAM_4614.csv')"
   ]
  },
  {
   "cell_type": "code",
   "execution_count": null,
   "id": "445fdd09-cc1a-4ad5-a0b8-96368fc1e4d3",
   "metadata": {},
   "outputs": [],
   "source": []
  }
 ],
 "metadata": {
  "kernelspec": {
   "display_name": "Python 3",
   "language": "python",
   "name": "python3"
  },
  "language_info": {
   "codemirror_mode": {
    "name": "ipython",
    "version": 3
   },
   "file_extension": ".py",
   "mimetype": "text/x-python",
   "name": "python",
   "nbconvert_exporter": "python",
   "pygments_lexer": "ipython3",
   "version": "3.10.13"
  }
 },
 "nbformat": 4,
 "nbformat_minor": 5
}
