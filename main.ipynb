{
 "cells": [
  {
   "cell_type": "code",
   "execution_count": 4,
   "id": "8df331bd",
   "metadata": {},
   "outputs": [],
   "source": [
    "import pandas as pd\n",
    "import numpy as np\n",
    "import datetime\n",
    "import dask.dataframe as dd\n",
    "from sklearn.preprocessing import LabelEncoder\n",
    "from sklearn.model_selection import StratifiedKFold, train_test_split\n",
    "from sklearn.metrics import auc\n",
    "from sklearn import metrics\n",
    "from sklearn.metrics import precision_score, recall_score, f1_score\n",
    "from collections import Counter\n",
    "from catboost import CatBoostClassifier, Pool, EShapCalcType, EFeaturesSelectionAlgorithm\n",
    "from scipy.stats import entropy"
   ]
  },
  {
   "cell_type": "code",
   "execution_count": 7,
   "id": "ae5a8d6a",
   "metadata": {},
   "outputs": [
    {
     "data": {
      "text/plain": [
       "<catboost.core.CatBoostClassifier at 0x284860610>"
      ]
     },
     "execution_count": 7,
     "metadata": {},
     "output_type": "execute_result"
    }
   ],
   "source": [
    "from catboost import CatBoostClassifier\n",
    "\n",
    "# 載入模型路徑\n",
    "model_path = 'catboost_model.cbm'\n",
    "\n",
    "# Create an instance of the CatBoostClassifier\n",
    "loaded_model = CatBoostClassifier()\n",
    "\n",
    "# Load the model from the file\n",
    "loaded_model.load_model(model_path, format='cbm')\n"
   ]
  },
  {
   "cell_type": "code",
   "execution_count": 8,
   "id": "c0012035",
   "metadata": {},
   "outputs": [],
   "source": [
    "new_val_data = pd.read_parquet('val_data.parquet')\n",
    "example = pd.read_csv('dataset_2nd/private_2_template_v2.csv')\n",
    "new_val_data = new_val_data.set_index('txkey')"
   ]
  },
  {
   "cell_type": "code",
   "execution_count": 9,
   "id": "9a930ac5",
   "metadata": {},
   "outputs": [],
   "source": [
    "columns_to_drop = ['chid', 'cano', 'bnsfg', 'flbmk', 'ovrlt', 'iterm', 'first_use_date',\n",
    "                   'last_use_date', 'days_active']\n",
    "\n",
    "cat_features = ['contp', 'etymd', 'mcc', 'ecfg', 'stocn', 'scity', 'insfg', 'mchno', 'acqic',\n",
    "                'stscd', 'hcefg', 'csmcu', 'flg_3dsmk', 'hour']\n",
    "\n",
    "X = new_val_data.drop(columns=columns_to_drop)\n",
    "\n",
    "for feature in cat_features:\n",
    "    X[feature] = X[feature].astype(str)\n",
    "    \n",
    "test_pool = Pool(X, cat_features=cat_features)\n"
   ]
  },
  {
   "cell_type": "code",
   "execution_count": 11,
   "id": "cff5c34b",
   "metadata": {},
   "outputs": [
    {
     "data": {
      "text/html": [
       "<div>\n",
       "<style scoped>\n",
       "    .dataframe tbody tr th:only-of-type {\n",
       "        vertical-align: middle;\n",
       "    }\n",
       "\n",
       "    .dataframe tbody tr th {\n",
       "        vertical-align: top;\n",
       "    }\n",
       "\n",
       "    .dataframe thead th {\n",
       "        text-align: right;\n",
       "    }\n",
       "</style>\n",
       "<table border=\"1\" class=\"dataframe\">\n",
       "  <thead>\n",
       "    <tr style=\"text-align: right;\">\n",
       "      <th></th>\n",
       "      <th>pred</th>\n",
       "    </tr>\n",
       "    <tr>\n",
       "      <th>txkey</th>\n",
       "      <th></th>\n",
       "    </tr>\n",
       "  </thead>\n",
       "  <tbody>\n",
       "    <tr>\n",
       "      <th>2dc3cfff76e54b508aec3a1ab7d3f3b9770d670c9cb9888f45ab96039212d609</th>\n",
       "      <td>0</td>\n",
       "    </tr>\n",
       "    <tr>\n",
       "      <th>5e4e0386a88cdf7847631e80fb129bbbf942a8ab68390bed581bf25738547e2f</th>\n",
       "      <td>0</td>\n",
       "    </tr>\n",
       "    <tr>\n",
       "      <th>ba2ec4f84fa996e4dbcb42984451b217fe2e9cd0b7d3da363c76df34b59ee6e0</th>\n",
       "      <td>0</td>\n",
       "    </tr>\n",
       "    <tr>\n",
       "      <th>a6f137a7444829310471ff9dd051addc349920ae07c5bbbd86ee4a58c05c8d8f</th>\n",
       "      <td>0</td>\n",
       "    </tr>\n",
       "    <tr>\n",
       "      <th>b4b3f47913e3142ca7cc54ab5d98fafc00174ad1c632069b3babc30f7ad9daad</th>\n",
       "      <td>0</td>\n",
       "    </tr>\n",
       "    <tr>\n",
       "      <th>...</th>\n",
       "      <td>...</td>\n",
       "    </tr>\n",
       "    <tr>\n",
       "      <th>f192c75180efd46e8746c9926d48f89b4f9bd730974d675d68f6bedc82ecdc06</th>\n",
       "      <td>0</td>\n",
       "    </tr>\n",
       "    <tr>\n",
       "      <th>79a032788e6f1c684a8c1ac514f8bd3c9fc9949869860492e9e5bea9c623db83</th>\n",
       "      <td>0</td>\n",
       "    </tr>\n",
       "    <tr>\n",
       "      <th>03bd77b8d2e0fa4a2d5d6fa417afb3f94ba65e4d3075ff494c8690ce18af3378</th>\n",
       "      <td>0</td>\n",
       "    </tr>\n",
       "    <tr>\n",
       "      <th>ddea7082b8a1830efa2f80b36e02378475ad89b7b2fa7498573e529de9e8fc11</th>\n",
       "      <td>0</td>\n",
       "    </tr>\n",
       "    <tr>\n",
       "      <th>5a5fca48dffaf0787a8e8a63e89cdd1120b3709a4940cfa7dfa84c8c288a42e5</th>\n",
       "      <td>0</td>\n",
       "    </tr>\n",
       "  </tbody>\n",
       "</table>\n",
       "<p>805721 rows × 1 columns</p>\n",
       "</div>"
      ],
      "text/plain": [
       "                                                    pred\n",
       "txkey                                                   \n",
       "2dc3cfff76e54b508aec3a1ab7d3f3b9770d670c9cb9888...     0\n",
       "5e4e0386a88cdf7847631e80fb129bbbf942a8ab68390be...     0\n",
       "ba2ec4f84fa996e4dbcb42984451b217fe2e9cd0b7d3da3...     0\n",
       "a6f137a7444829310471ff9dd051addc349920ae07c5bbb...     0\n",
       "b4b3f47913e3142ca7cc54ab5d98fafc00174ad1c632069...     0\n",
       "...                                                  ...\n",
       "f192c75180efd46e8746c9926d48f89b4f9bd730974d675...     0\n",
       "79a032788e6f1c684a8c1ac514f8bd3c9fc994986986049...     0\n",
       "03bd77b8d2e0fa4a2d5d6fa417afb3f94ba65e4d3075ff4...     0\n",
       "ddea7082b8a1830efa2f80b36e02378475ad89b7b2fa749...     0\n",
       "5a5fca48dffaf0787a8e8a63e89cdd1120b3709a4940cfa...     0\n",
       "\n",
       "[805721 rows x 1 columns]"
      ]
     },
     "execution_count": 11,
     "metadata": {},
     "output_type": "execute_result"
    }
   ],
   "source": [
    "best_threshold = 0.7551667421788241\n",
    "y_pred_proba = loaded_model.predict_proba(test_pool)[:, 1]\n",
    "y_pred_custom = (y_pred_proba > best_threshold).astype(int)\n",
    "new_val_data['pred'] = y_pred_custom\n",
    "new_val_data = new_val_data.reset_index()\n",
    "output_df = new_val_data[['txkey', 'pred']].set_index('txkey')\n",
    "example = example.drop_duplicates(subset='txkey')\n",
    "\n",
    "df2_sorted = example[['txkey']].merge(output_df, on='txkey', how='left')\n",
    "df2_sorted = df2_sorted.set_index('txkey')\n",
    "df2_sorted"
   ]
  },
  {
   "cell_type": "code",
   "execution_count": 14,
   "id": "f5558d2f",
   "metadata": {},
   "outputs": [],
   "source": [
    "df2_sorted.to_csv('dataset_2nd/TEAM_4614.csv')"
   ]
  },
  {
   "cell_type": "code",
   "execution_count": 15,
   "id": "24535535",
   "metadata": {},
   "outputs": [
    {
     "data": {
      "text/plain": [
       "pred\n",
       "0       801700\n",
       "1         4021\n",
       "Name: count, dtype: int64"
      ]
     },
     "execution_count": 15,
     "metadata": {},
     "output_type": "execute_result"
    }
   ],
   "source": [
    "df2_sorted.value_counts()"
   ]
  },
  {
   "cell_type": "code",
   "execution_count": null,
   "id": "7e49e5d3",
   "metadata": {},
   "outputs": [],
   "source": []
  }
 ],
 "metadata": {
  "kernelspec": {
   "display_name": "Python 3 (ipykernel)",
   "language": "python",
   "name": "python3"
  },
  "language_info": {
   "codemirror_mode": {
    "name": "ipython",
    "version": 3
   },
   "file_extension": ".py",
   "mimetype": "text/x-python",
   "name": "python",
   "nbconvert_exporter": "python",
   "pygments_lexer": "ipython3",
   "version": "3.11.5"
  }
 },
 "nbformat": 4,
 "nbformat_minor": 5
}
