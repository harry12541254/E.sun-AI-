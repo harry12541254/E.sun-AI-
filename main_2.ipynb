{
 "cells": [
  {
   "cell_type": "code",
   "execution_count": 1,
   "id": "8df331bd",
   "metadata": {},
   "outputs": [],
   "source": [
    "import pandas as pd\n",
    "import numpy as np\n",
    "import datetime\n",
    "import dask.dataframe as dd\n",
    "from sklearn.preprocessing import LabelEncoder\n",
    "from sklearn.model_selection import StratifiedKFold, train_test_split\n",
    "from sklearn.metrics import auc\n",
    "from sklearn import metrics\n",
    "from sklearn.metrics import precision_score, recall_score, f1_score\n",
    "from collections import Counter\n",
    "from catboost import CatBoostClassifier, Pool, EShapCalcType, EFeaturesSelectionAlgorithm\n",
    "from scipy.stats import entropy"
   ]
  },
  {
   "cell_type": "code",
   "execution_count": 2,
   "id": "ae5a8d6a",
   "metadata": {},
   "outputs": [
    {
     "data": {
      "text/plain": [
       "<catboost.core.CatBoostClassifier at 0x26369ccc0a0>"
      ]
     },
     "execution_count": 2,
     "metadata": {},
     "output_type": "execute_result"
    }
   ],
   "source": [
    "from catboost import CatBoostClassifier\n",
    "\n",
    "# 載入模型路徑\n",
    "model_path = 'dataset_2nd/model.cbm'\n",
    "\n",
    "# Create an instance of the CatBoostClassifier\n",
    "loaded_model = CatBoostClassifier()\n",
    "\n",
    "# Load the model from the file\n",
    "loaded_model.load_model(model_path, format='cbm')\n"
   ]
  },
  {
   "cell_type": "code",
   "execution_count": 3,
   "id": "c0012035",
   "metadata": {},
   "outputs": [],
   "source": [
    "new_val_data = pd.read_parquet('val_data.parquet')\n",
    "example = pd.read_csv('dataset_1st/31_範例繳交檔案.csv')\n",
    "new_val_data = new_val_data.set_index('txkey')"
   ]
  },
  {
   "cell_type": "code",
   "execution_count": 4,
   "id": "9a930ac5",
   "metadata": {},
   "outputs": [],
   "source": [
    "columns_to_drop = ['chid', 'cano', 'bnsfg', 'flbmk', 'ovrlt', 'iterm']\n",
    "\n",
    "cat_features = ['contp', 'etymd', 'mcc', 'ecfg', 'stocn', 'scity', 'insfg', 'mchno', 'acqic',\n",
    "                'stscd', 'hcefg', 'csmcu', 'flg_3dsmk', 'hour','city_change', 'country_change']\n",
    "\n",
    "X = new_val_data.drop(columns=columns_to_drop)\n",
    "\n",
    "for feature in cat_features:\n",
    "    X[feature] = X[feature].astype(str)\n",
    "    \n",
    "test_pool = Pool(X, cat_features=cat_features)\n"
   ]
  },
  {
   "cell_type": "code",
   "execution_count": 5,
   "id": "cff5c34b",
   "metadata": {},
   "outputs": [],
   "source": [
    "y_pred = loaded_model.predict(test_pool).astype(int)\n",
    "new_val_data['pred']= y_pred\n",
    "new_val_data =new_val_data.reset_index()\n",
    "\n",
    "output_df = new_val_data[['txkey', 'pred']].set_index('txkey')\n",
    "example = example.drop_duplicates(subset='txkey')\n",
    "\n",
    "df2_sorted = example[['txkey']].merge(output_df, on='txkey', how='left')\n",
    "df2_sorted = df2_sorted.set_index('txkey')"
   ]
  },
  {
   "cell_type": "code",
   "execution_count": 6,
   "id": "f5558d2f",
   "metadata": {},
   "outputs": [],
   "source": [
    "output_filename = 'dataset_2nd/predictions_secondround.csv'\n",
    "df2_sorted.to_csv(output_filename, index='True')"
   ]
  },
  {
   "cell_type": "code",
   "execution_count": 7,
   "id": "24535535",
   "metadata": {},
   "outputs": [
    {
     "data": {
      "text/html": [
       "<div>\n",
       "<style scoped>\n",
       "    .dataframe tbody tr th:only-of-type {\n",
       "        vertical-align: middle;\n",
       "    }\n",
       "\n",
       "    .dataframe tbody tr th {\n",
       "        vertical-align: top;\n",
       "    }\n",
       "\n",
       "    .dataframe thead th {\n",
       "        text-align: right;\n",
       "    }\n",
       "</style>\n",
       "<table border=\"1\" class=\"dataframe\">\n",
       "  <thead>\n",
       "    <tr style=\"text-align: right;\">\n",
       "      <th></th>\n",
       "      <th>pred</th>\n",
       "    </tr>\n",
       "    <tr>\n",
       "      <th>txkey</th>\n",
       "      <th></th>\n",
       "    </tr>\n",
       "  </thead>\n",
       "  <tbody>\n",
       "    <tr>\n",
       "      <th>a2c1209018e4e52e04f6fabb48f05f1b8bc09dc838ff6cb19906377fab414587</th>\n",
       "      <td>0</td>\n",
       "    </tr>\n",
       "    <tr>\n",
       "      <th>16c4880500059e01553789be11bbb50753b7acaae7b95bdcf6fb293a4d4a6e36</th>\n",
       "      <td>0</td>\n",
       "    </tr>\n",
       "    <tr>\n",
       "      <th>623c56be3bee87724e3d119c271d9ed098eeda842331830bcdcdee205329a531</th>\n",
       "      <td>0</td>\n",
       "    </tr>\n",
       "    <tr>\n",
       "      <th>250da12187059cf6e3a3066656a2919d08ceb8207efd550b3cf64eb47ae64d4d</th>\n",
       "      <td>0</td>\n",
       "    </tr>\n",
       "    <tr>\n",
       "      <th>4b268e0da036f44cbbb056ddfac6a28ea336d9cf299843bc7d40f3f7cb6c2d9f</th>\n",
       "      <td>0</td>\n",
       "    </tr>\n",
       "    <tr>\n",
       "      <th>...</th>\n",
       "      <td>...</td>\n",
       "    </tr>\n",
       "    <tr>\n",
       "      <th>47cd55bd7492e01e197b61799d072e6ca9e1c118bc76e924176566adab0d2b29</th>\n",
       "      <td>0</td>\n",
       "    </tr>\n",
       "    <tr>\n",
       "      <th>26cef9cc35fb73bedd08a711ebb6d612e4af7dd7b62e7c782aa58760bddd9cbc</th>\n",
       "      <td>0</td>\n",
       "    </tr>\n",
       "    <tr>\n",
       "      <th>f12f861ef6a8517ecddae262c1cc895f618e7e8c19eb9a768fc0b567e1e127d7</th>\n",
       "      <td>0</td>\n",
       "    </tr>\n",
       "    <tr>\n",
       "      <th>638b1a6a6f4389b7af60a6cb0ca908c82d0bdffc6924b0d50ea05f151683ec0e</th>\n",
       "      <td>0</td>\n",
       "    </tr>\n",
       "    <tr>\n",
       "      <th>9b9a8957b74f24aedbb085924fb3cc7653c980607ff81877a196253cd102802a</th>\n",
       "      <td>0</td>\n",
       "    </tr>\n",
       "  </tbody>\n",
       "</table>\n",
       "<p>1354321 rows × 1 columns</p>\n",
       "</div>"
      ],
      "text/plain": [
       "                                                    pred\n",
       "txkey                                                   \n",
       "a2c1209018e4e52e04f6fabb48f05f1b8bc09dc838ff6cb...     0\n",
       "16c4880500059e01553789be11bbb50753b7acaae7b95bd...     0\n",
       "623c56be3bee87724e3d119c271d9ed098eeda842331830...     0\n",
       "250da12187059cf6e3a3066656a2919d08ceb8207efd550...     0\n",
       "4b268e0da036f44cbbb056ddfac6a28ea336d9cf299843b...     0\n",
       "...                                                  ...\n",
       "47cd55bd7492e01e197b61799d072e6ca9e1c118bc76e92...     0\n",
       "26cef9cc35fb73bedd08a711ebb6d612e4af7dd7b62e7c7...     0\n",
       "f12f861ef6a8517ecddae262c1cc895f618e7e8c19eb9a7...     0\n",
       "638b1a6a6f4389b7af60a6cb0ca908c82d0bdffc6924b0d...     0\n",
       "9b9a8957b74f24aedbb085924fb3cc7653c980607ff8187...     0\n",
       "\n",
       "[1354321 rows x 1 columns]"
      ]
     },
     "execution_count": 7,
     "metadata": {},
     "output_type": "execute_result"
    }
   ],
   "source": [
    "df2_sorted.value_counts()"
   ]
  },
  {
   "cell_type": "code",
   "execution_count": 11,
   "id": "d20a2777",
   "metadata": {
    "scrolled": true
   },
   "outputs": [
    {
     "data": {
      "text/plain": [
       "pred\n",
       "0       1348932\n",
       "1          5389\n",
       "Name: count, dtype: int64"
      ]
     },
     "execution_count": 11,
     "metadata": {},
     "output_type": "execute_result"
    }
   ],
   "source": [
    "df2_sorted.value_counts()"
   ]
  },
  {
   "cell_type": "code",
   "execution_count": null,
   "id": "7e49e5d3",
   "metadata": {},
   "outputs": [],
   "source": []
  }
 ],
 "metadata": {
  "kernelspec": {
   "display_name": "Python 3 (ipykernel)",
   "language": "python",
   "name": "python3"
  },
  "language_info": {
   "codemirror_mode": {
    "name": "ipython",
    "version": 3
   },
   "file_extension": ".py",
   "mimetype": "text/x-python",
   "name": "python",
   "nbconvert_exporter": "python",
   "pygments_lexer": "ipython3",
   "version": "3.10.10"
  }
 },
 "nbformat": 4,
 "nbformat_minor": 5
}
